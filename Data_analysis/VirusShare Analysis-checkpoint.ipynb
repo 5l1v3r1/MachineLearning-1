{
 "cells": [
  {
   "cell_type": "code",
   "execution_count": 1,
   "metadata": {},
   "outputs": [],
   "source": [
    "from mpl_toolkits.mplot3d import Axes3D\n",
    "import pandas as pd\n",
    "import matplotlib.pyplot as plt\n",
    "\n",
    "df = pd.read_csv(\"VirusShare.csv\")"
   ]
  },
  {
   "cell_type": "code",
   "execution_count": 6,
   "metadata": {},
   "outputs": [
    {
     "name": "stdout",
     "output_type": "stream",
     "text": [
      "                                           FileName  SectionAlignment  \\\n",
      "0  VirusShare_001dd76872d80801692ff942308c64e6.json              4096   \n",
      "1  VirusShare_002325a0a67fded0381b5648d7fe9b8e.json              4096   \n",
      "2  VirusShare_00dbb9e1c09dbdafb360f3163ba5a3de.json               512   \n",
      "3  VirusShare_0149b7bd7218aab4e257d28469fddb0d.json              4096   \n",
      "4  VirusShare_01e0dc079d4e33d8edd050c4900818da.json              4096   \n",
      "\n",
      "   FileAlignment  SizeOfHeaders                              TimeDateStamp  \\\n",
      "0            512           1024  0x4CCFCD6C [Tue Nov  2 08:35:56 2010 UTC]   \n",
      "1            512           1024  0x4CD24D8F [Thu Nov  4 06:07:11 2010 UTC]   \n",
      "2            512           1024  0x5022F5F9 [Wed Aug  8 23:27:53 2012 UTC]   \n",
      "3            512           1024  0x4DE35569 [Mon May 30 08:29:29 2011 UTC]   \n",
      "4           4096           4096  0x4F5EC36D [Tue Mar 13 03:47:57 2012 UTC]   \n",
      "\n",
      "   ImageBase  SizeOfImage  SizeOfHeaders.1  DllCharacteristics  \\\n",
      "0    4194304        77824             1024                   0   \n",
      "1    4194304        81920             1024                   0   \n",
      "2    4194304        65024             1024                   0   \n",
      "3    4194304      2035712             1024                   0   \n",
      "4    4194304       135168             4096                   0   \n",
      "\n",
      "   Characteristics  HighEntropy  LowEntropy  TotalSuspiciousSections  \\\n",
      "0              271            0           0                        0   \n",
      "1              271            0           0                        0   \n",
      "2              271            0           1                        1   \n",
      "3              271            0           0                        0   \n",
      "4              271            0           0                        0   \n",
      "\n",
      "   TotalNonSuspiciousSections  \n",
      "0                           3  \n",
      "1                           4  \n",
      "2                           1  \n",
      "3                           4  \n",
      "4                           3  \n"
     ]
    }
   ],
   "source": [
    "print(df.head())"
   ]
  },
  {
   "cell_type": "code",
   "execution_count": 7,
   "metadata": {},
   "outputs": [
    {
     "name": "stdout",
     "output_type": "stream",
     "text": [
      "['FileName' 'SectionAlignment' 'FileAlignment' 'SizeOfHeaders'\n",
      " 'TimeDateStamp' 'ImageBase' 'SizeOfImage' 'SizeOfHeaders.1'\n",
      " 'DllCharacteristics' 'Characteristics' 'HighEntropy' 'LowEntropy'\n",
      " 'TotalSuspiciousSections' 'TotalNonSuspiciousSections']\n"
     ]
    }
   ],
   "source": [
    "print(df.columns.values)"
   ]
  },
  {
   "cell_type": "code",
   "execution_count": 8,
   "metadata": {},
   "outputs": [
    {
     "name": "stdout",
     "output_type": "stream",
     "text": [
      "4194304       241\n",
      "268435456      32\n",
      "1895825408      3\n",
      "5368709120      2\n",
      "6442450944      1\n",
      "65536           1\n",
      "Name: ImageBase, dtype: int64\n"
     ]
    }
   ],
   "source": [
    "print(df['ImageBase'].value_counts())"
   ]
  },
  {
   "cell_type": "markdown",
   "metadata": {},
   "source": [
    "In ImageBase feature, 4194304 look like as a standard value"
   ]
  },
  {
   "cell_type": "code",
   "execution_count": 10,
   "metadata": {},
   "outputs": [
    {
     "name": "stdout",
     "output_type": "stream",
     "text": [
      "0    208\n",
      "1     64\n",
      "2      4\n",
      "4      2\n",
      "3      2\n",
      "Name: TotalSuspiciousSections, dtype: int64\n"
     ]
    }
   ],
   "source": [
    "print(df['TotalSuspiciousSections'].value_counts())"
   ]
  },
  {
   "cell_type": "markdown",
   "metadata": {},
   "source": [
    "In ImageBase feature, there are 208 instances have 0 suspicious section"
   ]
  },
  {
   "cell_type": "code",
   "execution_count": 11,
   "metadata": {},
   "outputs": [
    {
     "name": "stdout",
     "output_type": "stream",
     "text": [
      "0    255\n",
      "1     25\n",
      "Name: HighEntropy, dtype: int64\n"
     ]
    }
   ],
   "source": [
    "print(df['HighEntropy'].value_counts())"
   ]
  },
  {
   "cell_type": "code",
   "execution_count": 12,
   "metadata": {},
   "outputs": [
    {
     "name": "stdout",
     "output_type": "stream",
     "text": [
      "0    254\n",
      "1     26\n",
      "Name: LowEntropy, dtype: int64\n"
     ]
    }
   ],
   "source": [
    "print(df['LowEntropy'].value_counts())"
   ]
  },
  {
   "cell_type": "code",
   "execution_count": 13,
   "metadata": {},
   "outputs": [
    {
     "name": "stdout",
     "output_type": "stream",
     "text": [
      "0        252\n",
      "33088     16\n",
      "34048      7\n",
      "320        2\n",
      "33024      2\n",
      "32768      1\n",
      "Name: DllCharacteristics, dtype: int64\n"
     ]
    }
   ],
   "source": [
    "print(df['DllCharacteristics'].value_counts())"
   ]
  },
  {
   "cell_type": "markdown",
   "metadata": {},
   "source": [
    "In DllCharacteristics feature, 0 look like as a standard value (252 instances)"
   ]
  },
  {
   "cell_type": "code",
   "execution_count": 14,
   "metadata": {},
   "outputs": [
    {
     "name": "stdout",
     "output_type": "stream",
     "text": [
      "28672      35\n",
      "20480      34\n",
      "24576      26\n",
      "32768      19\n",
      "53248      13\n",
      "4030464     9\n",
      "81920       8\n",
      "49152       6\n",
      "69632       6\n",
      "77824       6\n",
      "36864       6\n",
      "65536       6\n",
      "90112       5\n",
      "311296      5\n",
      "16384       5\n",
      "282624      4\n",
      "180224      4\n",
      "782336      4\n",
      "135168      4\n",
      "131072      4\n",
      "208896      3\n",
      "204800      3\n",
      "155648      3\n",
      "114688      3\n",
      "2035712     3\n",
      "57344       3\n",
      "315392      3\n",
      "692224      3\n",
      "102400      3\n",
      "73728       2\n",
      "           ..\n",
      "184320      2\n",
      "98304       2\n",
      "634880      2\n",
      "352256      2\n",
      "569344      2\n",
      "45056       2\n",
      "217088      1\n",
      "65024       1\n",
      "667648      1\n",
      "1163264     1\n",
      "499712      1\n",
      "479232      1\n",
      "139264      1\n",
      "610304      1\n",
      "40960       1\n",
      "475136      1\n",
      "241664      1\n",
      "94208       1\n",
      "786432      1\n",
      "151552      1\n",
      "659456      1\n",
      "106496      1\n",
      "536576      1\n",
      "770048      1\n",
      "4034560     1\n",
      "192512      1\n",
      "491520      1\n",
      "299008      1\n",
      "86016       1\n",
      "143360      1\n",
      "Name: SizeOfImage, Length: 63, dtype: int64\n"
     ]
    }
   ],
   "source": [
    "print(df['SizeOfImage'].value_counts())"
   ]
  },
  {
   "cell_type": "code",
   "execution_count": 15,
   "metadata": {},
   "outputs": [
    {
     "name": "stdout",
     "output_type": "stream",
     "text": [
      "271     214\n",
      "8462     31\n",
      "258      14\n",
      "259      10\n",
      "8450      4\n",
      "34        3\n",
      "270       2\n",
      "8226      1\n",
      "783       1\n",
      "Name: Characteristics, dtype: int64\n"
     ]
    }
   ],
   "source": [
    "print(df['Characteristics'].value_counts())"
   ]
  },
  {
   "cell_type": "markdown",
   "metadata": {},
   "source": [
    "In Characteristics feature, 271 look like as a standard value (214 instances)"
   ]
  },
  {
   "cell_type": "markdown",
   "metadata": {},
   "source": [
    "# Visualyzing data "
   ]
  },
  {
   "cell_type": "code",
   "execution_count": 83,
   "metadata": {},
   "outputs": [],
   "source": [
    "values = df['Characteristics'].value_counts().keys().tolist()\n",
    "counts = df['Characteristics'].value_counts().tolist()\n",
    "ids = [x for x in range(len(values))]"
   ]
  },
  {
   "cell_type": "code",
   "execution_count": 84,
   "metadata": {},
   "outputs": [
    {
     "name": "stdout",
     "output_type": "stream",
     "text": [
      "[0, 1, 2, 3, 4, 5, 6, 7, 8]\n"
     ]
    }
   ],
   "source": [
    "print(ids)"
   ]
  },
  {
   "cell_type": "code",
   "execution_count": 85,
   "metadata": {},
   "outputs": [
    {
     "data": {
      "text/plain": [
       "<BarContainer object of 9 artists>"
      ]
     },
     "execution_count": 85,
     "metadata": {},
     "output_type": "execute_result"
    },
    {
     "data": {
      "image/png": "[encoded data removed]",
      "text/plain": [
       "<Figure size 432x288 with 1 Axes>"
      ]
     },
     "metadata": {},
     "output_type": "display_data"
    }
   ],
   "source": [
    "plt.xticks(ids,values,rotation='45')\n",
    "plt.bar(ids,counts)"
   ]
  },
  {
   "cell_type": "code",
   "execution_count": 42,
   "metadata": {},
   "outputs": [],
   "source": [
    "values = df['ImageBase'].value_counts().keys().tolist()\n",
    "counts = df['ImageBase'].value_counts().tolist()\n",
    "ids = [x for x in range(len(values))]"
   ]
  },
  {
   "cell_type": "code",
   "execution_count": 43,
   "metadata": {},
   "outputs": [
    {
     "data": {
      "text/plain": [
       "<BarContainer object of 6 artists>"
      ]
     },
     "execution_count": 43,
     "metadata": {},
     "output_type": "execute_result"
    },
    {
     "data": {
      "image/png": "[encoded data removed]",
      "text/plain": [
       "<Figure size 432x288 with 1 Axes>"
      ]
     },
     "metadata": {},
     "output_type": "display_data"
    }
   ],
   "source": [
    "plt.xticks(ids,values,rotation='45')\n",
    "plt.bar(ids,counts)"
   ]
  },
  {
   "cell_type": "code",
   "execution_count": 90,
   "metadata": {},
   "outputs": [
    {
     "data": {
      "image/png": "[encoded data removed]",
      "text/plain": [
       "<Figure size 432x288 with 1 Axes>"
      ]
     },
     "metadata": {},
     "output_type": "display_data"
    }
   ],
   "source": [
    "x = df.index.tolist()\n",
    "y1 = df['TotalSuspiciousSections'].tolist()\n",
    "y2 = (df['DllCharacteristics']/10000).tolist()\n",
    "y3 = (df['ImageBase']/1000000000).tolist()\n",
    "\n",
    "plt.scatter(x,y1,s=2, label=\"Total Suspicious Sections\", color=\"r\")\n",
    "plt.scatter(x,y2,s=2, label=\"Total Suspicious Sections\", color=\"g\")\n",
    "plt.scatter(x,y3,s=2, label=\"Total Suspicious Sections\", color=\"b\")\n",
    "\n",
    "\n",
    "plt.show()"
   ]
  },
  {
   "cell_type": "code",
   "execution_count": 2,
   "metadata": {},
   "outputs": [
    {
     "data": {
      "image/png": "[encoded data removed]",
      "text/plain": [
       "<Figure size 432x288 with 1 Axes>"
      ]
     },
     "metadata": {},
     "output_type": "display_data"
    }
   ],
   "source": [
    "x = df.index.tolist()\n",
    "y = df['TotalSuspiciousSections'].tolist()\n",
    "z = df['DllCharacteristics'].tolist()\n",
    "\n",
    "fig = plt.figure()\n",
    "ax = fig.add_subplot(111, projection='3d')\n",
    "\n",
    "ax.scatter(x, y, z, c='r', marker='o')\n",
    "\n",
    "ax.set_xlabel('Point')\n",
    "ax.set_ylabel('TotalSuspiciousSections')\n",
    "ax.set_zlabel('DllCharacteristics')\n",
    "\n",
    "plt.show()"
   ]
  },
  {
   "cell_type": "code",
   "execution_count": null,
   "metadata": {},
   "outputs": [],
   "source": []
  }
 ],
 "metadata": {
  "kernelspec": {
   "display_name": "Python 3",
   "language": "python",
   "name": "python3"
  },
  "language_info": {
   "codemirror_mode": {
    "name": "ipython",
    "version": 3
   },
   "file_extension": ".py",
   "mimetype": "text/x-python",
   "name": "python",
   "nbconvert_exporter": "python",
   "pygments_lexer": "ipython3",
   "version": "3.6.6"
  }
 },
 "nbformat": 4,
 "nbformat_minor": 2
}
